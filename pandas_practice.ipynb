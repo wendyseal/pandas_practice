{
  "nbformat": 4,
  "nbformat_minor": 0,
  "metadata": {
    "colab": {
      "name": "pandas_practice.ipynb",
      "provenance": [],
      "collapsed_sections": [],
      "toc_visible": true,
      "authorship_tag": "ABX9TyNia+Lq7+ohQVidEU+bd1O6",
      "include_colab_link": true
    },
    "kernelspec": {
      "name": "python3",
      "display_name": "Python 3"
    }
  },
  "cells": [
    {
      "cell_type": "markdown",
      "metadata": {
        "id": "view-in-github",
        "colab_type": "text"
      },
      "source": [
        "<a href=\"https://colab.research.google.com/github/wendyseal/pandas_practice/blob/main/pandas_practice.ipynb\" target=\"_parent\"><img src=\"https://colab.research.google.com/assets/colab-badge.svg\" alt=\"Open In Colab\"/></a>"
      ]
    },
    {
      "cell_type": "markdown",
      "metadata": {
        "id": "gsylu2QPKvAz"
      },
      "source": [
        "# 載入資料, 建立DataFrame\n",
        "為了印出漂亮表格,顯示限定行數與列數<br/>\n",
        "pd.set_option('display.max_rows',列數)<br/>\n",
        "pd.set_option('display.max_columns',行數)<br/>\n",
        "\n",
        "\n",
        "\n"
      ]
    },
    {
      "cell_type": "markdown",
      "metadata": {
        "id": "8FoqOtPPyNcO"
      },
      "source": [
        "https://blog.csdn.net/starter_____/article/details/79184196\n",
        ".value_counts()\n",
        ".unique()"
      ]
    },
    {
      "cell_type": "code",
      "metadata": {
        "id": "-hDg0gX4GgEL",
        "outputId": "43fa785b-c6b5-4c1a-b307-1b50f5fcaf99",
        "colab": {
          "base_uri": "https://localhost:8080/",
          "height": 401
        }
      },
      "source": [
        "import pandas as pd\n",
        "pd.set_option('display.max_rows',6)\n",
        "pd.set_option('display.max_columns',6)\n",
        "df=pd.read_excel(\"0820result.xlsx\", encoding = \"utf-8\")\n",
        "df"
      ],
      "execution_count": null,
      "outputs": [
        {
          "output_type": "execute_result",
          "data": {
            "text/html": [
              "<div>\n",
              "<style scoped>\n",
              "    .dataframe tbody tr th:only-of-type {\n",
              "        vertical-align: middle;\n",
              "    }\n",
              "\n",
              "    .dataframe tbody tr th {\n",
              "        vertical-align: top;\n",
              "    }\n",
              "\n",
              "    .dataframe thead th {\n",
              "        text-align: right;\n",
              "    }\n",
              "</style>\n",
              "<table border=\"1\" class=\"dataframe\">\n",
              "  <thead>\n",
              "    <tr style=\"text-align: right;\">\n",
              "      <th></th>\n",
              "      <th>時間戳記</th>\n",
              "      <th>性別</th>\n",
              "      <th>年齡</th>\n",
              "      <th>...</th>\n",
              "      <th>10.平均一天花多少時間在手機遊戲、社群軟體(eg : FB、IG)上？(不包含傳遞訊息、溝通聊天)</th>\n",
              "      <th>11.收到禮物中，最讓你喜歡/感動的禮物為何?</th>\n",
              "      <th>12.若您為收禮者，最希望收到哪一種風格的禮物呢？</th>\n",
              "    </tr>\n",
              "  </thead>\n",
              "  <tbody>\n",
              "    <tr>\n",
              "      <th>0</th>\n",
              "      <td>2020-08-11 17:59:36.494</td>\n",
              "      <td>男</td>\n",
              "      <td>(B)25-29歲</td>\n",
              "      <td>...</td>\n",
              "      <td>(C) 1小時到3小時</td>\n",
              "      <td>(A)剛好需要的產品</td>\n",
              "      <td>(C)實用物件</td>\n",
              "    </tr>\n",
              "    <tr>\n",
              "      <th>1</th>\n",
              "      <td>2020-08-12 16:27:23.617</td>\n",
              "      <td>女</td>\n",
              "      <td>(B)25-29歲</td>\n",
              "      <td>...</td>\n",
              "      <td>(C)1小時到3小時</td>\n",
              "      <td>(A)剛好需要的產品</td>\n",
              "      <td>(C)實用物件</td>\n",
              "    </tr>\n",
              "    <tr>\n",
              "      <th>2</th>\n",
              "      <td>2020-08-12 16:27:24.883</td>\n",
              "      <td>女</td>\n",
              "      <td>(B)25-29歲</td>\n",
              "      <td>...</td>\n",
              "      <td>(C)1小時到3小時</td>\n",
              "      <td>(A)剛好需要的產品</td>\n",
              "      <td>(D)獨特小物</td>\n",
              "    </tr>\n",
              "    <tr>\n",
              "      <th>...</th>\n",
              "      <td>...</td>\n",
              "      <td>...</td>\n",
              "      <td>...</td>\n",
              "      <td>...</td>\n",
              "      <td>...</td>\n",
              "      <td>...</td>\n",
              "      <td>...</td>\n",
              "    </tr>\n",
              "    <tr>\n",
              "      <th>52</th>\n",
              "      <td>2020-08-19 16:29:18.797</td>\n",
              "      <td>男</td>\n",
              "      <td>(B)25-29歲</td>\n",
              "      <td>...</td>\n",
              "      <td>(C)1小時到3小時</td>\n",
              "      <td>(A)剛好需要的產品</td>\n",
              "      <td>(C)實用物件</td>\n",
              "    </tr>\n",
              "    <tr>\n",
              "      <th>53</th>\n",
              "      <td>2020-08-19 16:36:28.322</td>\n",
              "      <td>男</td>\n",
              "      <td>(A)22-24歲</td>\n",
              "      <td>...</td>\n",
              "      <td>(C)1小時到3小時</td>\n",
              "      <td>(C)有紀念價值的禮物</td>\n",
              "      <td>(C)實用物件</td>\n",
              "    </tr>\n",
              "    <tr>\n",
              "      <th>54</th>\n",
              "      <td>2020-08-19 19:34:32.515</td>\n",
              "      <td>女</td>\n",
              "      <td>(C)30-35歲</td>\n",
              "      <td>...</td>\n",
              "      <td>(C)1小時到3小時</td>\n",
              "      <td>(A)剛好需要的產品</td>\n",
              "      <td>(A)流行時尚</td>\n",
              "    </tr>\n",
              "  </tbody>\n",
              "</table>\n",
              "<p>55 rows × 17 columns</p>\n",
              "</div>"
            ],
            "text/plain": [
              "                      時間戳記 性別         年齡  ...  \\\n",
              "0  2020-08-11 17:59:36.494  男  (B)25-29歲  ...   \n",
              "1  2020-08-12 16:27:23.617  女  (B)25-29歲  ...   \n",
              "2  2020-08-12 16:27:24.883  女  (B)25-29歲  ...   \n",
              "..                     ... ..        ...  ...   \n",
              "52 2020-08-19 16:29:18.797  男  (B)25-29歲  ...   \n",
              "53 2020-08-19 16:36:28.322  男  (A)22-24歲  ...   \n",
              "54 2020-08-19 19:34:32.515  女  (C)30-35歲  ...   \n",
              "\n",
              "   10.平均一天花多少時間在手機遊戲、社群軟體(eg : FB、IG)上？(不包含傳遞訊息、溝通聊天) 11.收到禮物中，最讓你喜歡/感動的禮物為何?  \\\n",
              "0                                         (C) 1小時到3小時              (A)剛好需要的產品   \n",
              "1                                          (C)1小時到3小時              (A)剛好需要的產品   \n",
              "2                                          (C)1小時到3小時              (A)剛好需要的產品   \n",
              "..                                                ...                     ...   \n",
              "52                                         (C)1小時到3小時              (A)剛好需要的產品   \n",
              "53                                         (C)1小時到3小時             (C)有紀念價值的禮物   \n",
              "54                                         (C)1小時到3小時              (A)剛好需要的產品   \n",
              "\n",
              "   12.若您為收禮者，最希望收到哪一種風格的禮物呢？  \n",
              "0                    (C)實用物件  \n",
              "1                    (C)實用物件  \n",
              "2                    (D)獨特小物  \n",
              "..                       ...  \n",
              "52                   (C)實用物件  \n",
              "53                   (C)實用物件  \n",
              "54                   (A)流行時尚  \n",
              "\n",
              "[55 rows x 17 columns]"
            ]
          },
          "metadata": {
            "tags": []
          },
          "execution_count": 3
        }
      ]
    },
    {
      "cell_type": "markdown",
      "metadata": {
        "id": "MnINnCrtSGIB"
      },
      "source": [
        "# 查看DataFrame大小: df.shape\n",
        "二維用df.shape<br/>\n",
        "傳回tuple:(列數,行數)"
      ]
    },
    {
      "cell_type": "code",
      "metadata": {
        "id": "lPIVXQh2R6MQ",
        "outputId": "b08b2f3f-0528-44ca-ebd9-8a02b2ec7619",
        "colab": {
          "base_uri": "https://localhost:8080/",
          "height": 34
        }
      },
      "source": [
        "df.shape"
      ],
      "execution_count": null,
      "outputs": [
        {
          "output_type": "execute_result",
          "data": {
            "text/plain": [
              "(55, 17)"
            ]
          },
          "metadata": {
            "tags": []
          },
          "execution_count": 4
        }
      ]
    },
    {
      "cell_type": "markdown",
      "metadata": {
        "id": "3WiLowAwVjdh"
      },
      "source": [
        "# 行篩選df[[\"column1\",\"column2\",\"column3\"]]\n",
        "多行篩選時，外面的[]是DataFrame的行操作，裡面的[]是把標籤集合起來的list"
      ]
    },
    {
      "cell_type": "code",
      "metadata": {
        "id": "EBy1AALeUdIX"
      },
      "source": [
        "df[\"comments\"]"
      ],
      "execution_count": null,
      "outputs": []
    },
    {
      "cell_type": "code",
      "metadata": {
        "id": "E-XzwNi3VyXy"
      },
      "source": [
        "df[[\"comments\",\"description\",\"url\"]]"
      ],
      "execution_count": null,
      "outputs": []
    },
    {
      "cell_type": "markdown",
      "metadata": {
        "id": "LbLjlprzWiqw"
      },
      "source": [
        "# 列篩選df.iloc[座號] 或df.loc[\"列標籤\"] "
      ]
    },
    {
      "cell_type": "code",
      "metadata": {
        "id": "gp_2MXohWhqt"
      },
      "source": [
        "#取第10,11,12,13,14 共5筆資料\n",
        "df.iloc[10:15]"
      ],
      "execution_count": null,
      "outputs": []
    },
    {
      "cell_type": "markdown",
      "metadata": {
        "id": "T-DpruT2XSUh"
      },
      "source": [
        "# 頭尾列篩選 df.head(數字) df.tail(數字)\n",
        "df.head(5):頭5列篩選<br/>\n",
        "df.tail(5):尾5列"
      ]
    },
    {
      "cell_type": "code",
      "metadata": {
        "id": "z8Jhu58UXQR-"
      },
      "source": [
        "df.head(5)"
      ],
      "execution_count": null,
      "outputs": []
    },
    {
      "cell_type": "code",
      "metadata": {
        "id": "4GrweX71XMBf"
      },
      "source": [
        "df.tail(5)"
      ],
      "execution_count": null,
      "outputs": []
    },
    {
      "cell_type": "markdown",
      "metadata": {
        "id": "Yh_vgt7EYNxC"
      },
      "source": [
        "# 行列篩選: [\"列標籤\"]與.iloc[:] 的組合~\n",
        "順序誰先誰後都可以"
      ]
    },
    {
      "cell_type": "code",
      "metadata": {
        "id": "TSiuxFtwYI-o",
        "outputId": "52bb2c48-74eb-40cc-d93d-f47e29a58258",
        "colab": {
          "base_uri": "https://localhost:8080/",
          "height": 288
        }
      },
      "source": [
        "#取前五列\n",
        "df[[\"comments\",\"description\",\"url\"]].iloc[:5]"
      ],
      "execution_count": null,
      "outputs": [
        {
          "output_type": "execute_result",
          "data": {
            "text/html": [
              "<div>\n",
              "<style scoped>\n",
              "    .dataframe tbody tr th:only-of-type {\n",
              "        vertical-align: middle;\n",
              "    }\n",
              "\n",
              "    .dataframe tbody tr th {\n",
              "        vertical-align: top;\n",
              "    }\n",
              "\n",
              "    .dataframe thead th {\n",
              "        text-align: right;\n",
              "    }\n",
              "</style>\n",
              "<table border=\"1\" class=\"dataframe\">\n",
              "  <thead>\n",
              "    <tr style=\"text-align: right;\">\n",
              "      <th></th>\n",
              "      <th>comments</th>\n",
              "      <th>description</th>\n",
              "      <th>url</th>\n",
              "    </tr>\n",
              "  </thead>\n",
              "  <tbody>\n",
              "    <tr>\n",
              "      <th>0</th>\n",
              "      <td>4553</td>\n",
              "      <td>Sir Ken Robinson makes an entertaining and pro...</td>\n",
              "      <td>https://www.ted.com/talks/ken_robinson_says_sc...</td>\n",
              "    </tr>\n",
              "    <tr>\n",
              "      <th>1</th>\n",
              "      <td>265</td>\n",
              "      <td>With the same humor and humanity he exuded in ...</td>\n",
              "      <td>https://www.ted.com/talks/al_gore_on_averting_...</td>\n",
              "    </tr>\n",
              "    <tr>\n",
              "      <th>2</th>\n",
              "      <td>124</td>\n",
              "      <td>New York Times columnist David Pogue takes aim...</td>\n",
              "      <td>https://www.ted.com/talks/david_pogue_says_sim...</td>\n",
              "    </tr>\n",
              "    <tr>\n",
              "      <th>3</th>\n",
              "      <td>200</td>\n",
              "      <td>In an emotionally charged talk, MacArthur-winn...</td>\n",
              "      <td>https://www.ted.com/talks/majora_carter_s_tale...</td>\n",
              "    </tr>\n",
              "    <tr>\n",
              "      <th>4</th>\n",
              "      <td>593</td>\n",
              "      <td>You've never seen data presented like this. Wi...</td>\n",
              "      <td>https://www.ted.com/talks/hans_rosling_shows_t...</td>\n",
              "    </tr>\n",
              "  </tbody>\n",
              "</table>\n",
              "</div>"
            ],
            "text/plain": [
              "   comments                                        description  \\\n",
              "0      4553  Sir Ken Robinson makes an entertaining and pro...   \n",
              "1       265  With the same humor and humanity he exuded in ...   \n",
              "2       124  New York Times columnist David Pogue takes aim...   \n",
              "3       200  In an emotionally charged talk, MacArthur-winn...   \n",
              "4       593  You've never seen data presented like this. Wi...   \n",
              "\n",
              "                                                 url  \n",
              "0  https://www.ted.com/talks/ken_robinson_says_sc...  \n",
              "1  https://www.ted.com/talks/al_gore_on_averting_...  \n",
              "2  https://www.ted.com/talks/david_pogue_says_sim...  \n",
              "3  https://www.ted.com/talks/majora_carter_s_tale...  \n",
              "4  https://www.ted.com/talks/hans_rosling_shows_t...  "
            ]
          },
          "metadata": {
            "tags": []
          },
          "execution_count": 12
        }
      ]
    },
    {
      "cell_type": "code",
      "metadata": {
        "id": "T1PjmIEJa5Rq",
        "outputId": "d9eab4ab-15a6-44b0-949a-598f99ea0706",
        "colab": {
          "base_uri": "https://localhost:8080/",
          "height": 288
        }
      },
      "source": [
        "#列取最後五筆\n",
        "df.iloc[2545:][[\"comments\",\"description\",\"url\"]]"
      ],
      "execution_count": null,
      "outputs": [
        {
          "output_type": "execute_result",
          "data": {
            "text/html": [
              "<div>\n",
              "<style scoped>\n",
              "    .dataframe tbody tr th:only-of-type {\n",
              "        vertical-align: middle;\n",
              "    }\n",
              "\n",
              "    .dataframe tbody tr th {\n",
              "        vertical-align: top;\n",
              "    }\n",
              "\n",
              "    .dataframe thead th {\n",
              "        text-align: right;\n",
              "    }\n",
              "</style>\n",
              "<table border=\"1\" class=\"dataframe\">\n",
              "  <thead>\n",
              "    <tr style=\"text-align: right;\">\n",
              "      <th></th>\n",
              "      <th>comments</th>\n",
              "      <th>description</th>\n",
              "      <th>url</th>\n",
              "    </tr>\n",
              "  </thead>\n",
              "  <tbody>\n",
              "    <tr>\n",
              "      <th>2545</th>\n",
              "      <td>17</td>\n",
              "      <td>Between 2008 and 2016, the United States depor...</td>\n",
              "      <td>https://www.ted.com/talks/duarte_geraldino_wha...</td>\n",
              "    </tr>\n",
              "    <tr>\n",
              "      <th>2546</th>\n",
              "      <td>6</td>\n",
              "      <td>How can you study Mars without a spaceship? He...</td>\n",
              "      <td>https://www.ted.com/talks/armando_azua_bustos_...</td>\n",
              "    </tr>\n",
              "    <tr>\n",
              "      <th>2547</th>\n",
              "      <td>10</td>\n",
              "      <td>Science fiction visions of the future show us ...</td>\n",
              "      <td>https://www.ted.com/talks/radhika_nagpal_what_...</td>\n",
              "    </tr>\n",
              "    <tr>\n",
              "      <th>2548</th>\n",
              "      <td>32</td>\n",
              "      <td>In an unmissable talk about race and politics ...</td>\n",
              "      <td>https://www.ted.com/talks/theo_e_j_wilson_a_bl...</td>\n",
              "    </tr>\n",
              "    <tr>\n",
              "      <th>2549</th>\n",
              "      <td>8</td>\n",
              "      <td>With more than half of the world population li...</td>\n",
              "      <td>https://www.ted.com/talks/karoliina_korppoo_ho...</td>\n",
              "    </tr>\n",
              "  </tbody>\n",
              "</table>\n",
              "</div>"
            ],
            "text/plain": [
              "      comments                                        description  \\\n",
              "2545        17  Between 2008 and 2016, the United States depor...   \n",
              "2546         6  How can you study Mars without a spaceship? He...   \n",
              "2547        10  Science fiction visions of the future show us ...   \n",
              "2548        32  In an unmissable talk about race and politics ...   \n",
              "2549         8  With more than half of the world population li...   \n",
              "\n",
              "                                                    url  \n",
              "2545  https://www.ted.com/talks/duarte_geraldino_wha...  \n",
              "2546  https://www.ted.com/talks/armando_azua_bustos_...  \n",
              "2547  https://www.ted.com/talks/radhika_nagpal_what_...  \n",
              "2548  https://www.ted.com/talks/theo_e_j_wilson_a_bl...  \n",
              "2549  https://www.ted.com/talks/karoliina_korppoo_ho...  "
            ]
          },
          "metadata": {
            "tags": []
          },
          "execution_count": 14
        }
      ]
    },
    {
      "cell_type": "code",
      "metadata": {
        "id": "X4wvKD0obZUA",
        "outputId": "f7abc0be-cbc5-416d-f0cb-ef6741fd42fc",
        "colab": {
          "base_uri": "https://localhost:8080/",
          "height": 398
        }
      },
      "source": [
        "#取前三列\n",
        "df_small=df.iloc[:3]\n",
        "df_small[[True,True,True]]"
      ],
      "execution_count": null,
      "outputs": [
        {
          "output_type": "execute_result",
          "data": {
            "text/html": [
              "<div>\n",
              "<style scoped>\n",
              "    .dataframe tbody tr th:only-of-type {\n",
              "        vertical-align: middle;\n",
              "    }\n",
              "\n",
              "    .dataframe tbody tr th {\n",
              "        vertical-align: top;\n",
              "    }\n",
              "\n",
              "    .dataframe thead th {\n",
              "        text-align: right;\n",
              "    }\n",
              "</style>\n",
              "<table border=\"1\" class=\"dataframe\">\n",
              "  <thead>\n",
              "    <tr style=\"text-align: right;\">\n",
              "      <th></th>\n",
              "      <th>comments</th>\n",
              "      <th>description</th>\n",
              "      <th>duration</th>\n",
              "      <th>...</th>\n",
              "      <th>title</th>\n",
              "      <th>url</th>\n",
              "      <th>views</th>\n",
              "    </tr>\n",
              "  </thead>\n",
              "  <tbody>\n",
              "    <tr>\n",
              "      <th>0</th>\n",
              "      <td>4553</td>\n",
              "      <td>Sir Ken Robinson makes an entertaining and pro...</td>\n",
              "      <td>1164</td>\n",
              "      <td>...</td>\n",
              "      <td>Do schools kill creativity?</td>\n",
              "      <td>https://www.ted.com/talks/ken_robinson_says_sc...</td>\n",
              "      <td>47227110</td>\n",
              "    </tr>\n",
              "    <tr>\n",
              "      <th>1</th>\n",
              "      <td>265</td>\n",
              "      <td>With the same humor and humanity he exuded in ...</td>\n",
              "      <td>977</td>\n",
              "      <td>...</td>\n",
              "      <td>Averting the climate crisis</td>\n",
              "      <td>https://www.ted.com/talks/al_gore_on_averting_...</td>\n",
              "      <td>3200520</td>\n",
              "    </tr>\n",
              "    <tr>\n",
              "      <th>2</th>\n",
              "      <td>124</td>\n",
              "      <td>New York Times columnist David Pogue takes aim...</td>\n",
              "      <td>1286</td>\n",
              "      <td>...</td>\n",
              "      <td>Simplicity sells</td>\n",
              "      <td>https://www.ted.com/talks/david_pogue_says_sim...</td>\n",
              "      <td>1636292</td>\n",
              "    </tr>\n",
              "  </tbody>\n",
              "</table>\n",
              "<p>3 rows × 17 columns</p>\n",
              "</div>"
            ],
            "text/plain": [
              "   comments                                        description  duration  ...  \\\n",
              "0      4553  Sir Ken Robinson makes an entertaining and pro...      1164  ...   \n",
              "1       265  With the same humor and humanity he exuded in ...       977  ...   \n",
              "2       124  New York Times columnist David Pogue takes aim...      1286  ...   \n",
              "\n",
              "                         title  \\\n",
              "0  Do schools kill creativity?   \n",
              "1  Averting the climate crisis   \n",
              "2             Simplicity sells   \n",
              "\n",
              "                                                 url     views  \n",
              "0  https://www.ted.com/talks/ken_robinson_says_sc...  47227110  \n",
              "1  https://www.ted.com/talks/al_gore_on_averting_...   3200520  \n",
              "2  https://www.ted.com/talks/david_pogue_says_sim...   1636292  \n",
              "\n",
              "[3 rows x 17 columns]"
            ]
          },
          "metadata": {
            "tags": []
          },
          "execution_count": 15
        }
      ]
    },
    {
      "cell_type": "markdown",
      "metadata": {
        "id": "4aiMTrcWe7n_"
      },
      "source": [
        "# 列過濾(過濾資料)\n",
        "**概念:**<br/>\n",
        "做一個跟資料筆數一樣大的布林list<br/>\n",
        "對到True的留下，對到False的丟掉<br/>\n",
        "作法: df[[布林list]]<br/>\n",
        "**實作:**<br/>\n",
        "因為資料量太大,不可能自己創布林list，<br/>\n",
        "因此藉由pandas函式幫忙，創造一個布林list：<br/>\n",
        "bool_filter= **df[\"欄位\"].str.contains(\"Sir\")**\n"
      ]
    },
    {
      "cell_type": "code",
      "metadata": {
        "id": "N9m4l_eFj7Ab"
      },
      "source": [
        "bool_filter= df[\"description\"].str.contains(\"Sir\")\n",
        "bool_filter"
      ],
      "execution_count": null,
      "outputs": []
    },
    {
      "cell_type": "code",
      "metadata": {
        "id": "bpkWmkDykaaO"
      },
      "source": [
        "#帶入DataFrame\n",
        "df[bool_filter]"
      ],
      "execution_count": null,
      "outputs": []
    },
    {
      "cell_type": "markdown",
      "metadata": {
        "id": "rVrXNb-pk8rE"
      },
      "source": [
        "上述寫法，即使資料為\"Sirena\"也會被抓進來。<br/>\n",
        "今天若只想要完全符合\"Sir\"的資料，需要透過**正規表示式**改寫<br/>\n",
        "**\\b**:匹配單詞為開頭與結束<br/>\n",
        "注意:格式字串前需要加上<br/>\n",
        "**r**:不轉換任何東西 呈現原始字串<br/>\n",
        "\n"
      ]
    },
    {
      "cell_type": "code",
      "metadata": {
        "id": "qbZyYw_do37c",
        "outputId": "c62b771a-0537-4a80-e22b-7efcc8c935e7",
        "colab": {
          "base_uri": "https://localhost:8080/",
          "height": 698
        }
      },
      "source": [
        "bool_filter= df[\"description\"].str.contains(r\"\\bSir\\b\")\n",
        "df_filter = df[bool_filter]\n",
        "df_filter "
      ],
      "execution_count": null,
      "outputs": [
        {
          "output_type": "execute_result",
          "data": {
            "text/html": [
              "<div>\n",
              "<style scoped>\n",
              "    .dataframe tbody tr th:only-of-type {\n",
              "        vertical-align: middle;\n",
              "    }\n",
              "\n",
              "    .dataframe tbody tr th {\n",
              "        vertical-align: top;\n",
              "    }\n",
              "\n",
              "    .dataframe thead th {\n",
              "        text-align: right;\n",
              "    }\n",
              "</style>\n",
              "<table border=\"1\" class=\"dataframe\">\n",
              "  <thead>\n",
              "    <tr style=\"text-align: right;\">\n",
              "      <th></th>\n",
              "      <th>comments</th>\n",
              "      <th>description</th>\n",
              "      <th>duration</th>\n",
              "      <th>...</th>\n",
              "      <th>title</th>\n",
              "      <th>url</th>\n",
              "      <th>views</th>\n",
              "    </tr>\n",
              "  </thead>\n",
              "  <tbody>\n",
              "    <tr>\n",
              "      <th>0</th>\n",
              "      <td>4553</td>\n",
              "      <td>Sir Ken Robinson makes an entertaining and pro...</td>\n",
              "      <td>1164</td>\n",
              "      <td>...</td>\n",
              "      <td>Do schools kill creativity?</td>\n",
              "      <td>https://www.ted.com/talks/ken_robinson_says_sc...</td>\n",
              "      <td>47227110</td>\n",
              "    </tr>\n",
              "    <tr>\n",
              "      <th>54</th>\n",
              "      <td>203</td>\n",
              "      <td>Speaking as both an astronomer and \"a concerne...</td>\n",
              "      <td>1046</td>\n",
              "      <td>...</td>\n",
              "      <td>Is this our final century?</td>\n",
              "      <td>https://www.ted.com/talks/martin_rees_asks_is_...</td>\n",
              "      <td>2121177</td>\n",
              "    </tr>\n",
              "    <tr>\n",
              "      <th>692</th>\n",
              "      <td>1234</td>\n",
              "      <td>In this poignant, funny follow-up to his fable...</td>\n",
              "      <td>1008</td>\n",
              "      <td>...</td>\n",
              "      <td>Bring on the learning revolution!</td>\n",
              "      <td>https://www.ted.com/talks/sir_ken_robinson_bri...</td>\n",
              "      <td>7266316</td>\n",
              "    </tr>\n",
              "    <tr>\n",
              "      <th>833</th>\n",
              "      <td>473</td>\n",
              "      <td>In this talk from RSA Animate, Sir Ken Robinso...</td>\n",
              "      <td>700</td>\n",
              "      <td>...</td>\n",
              "      <td>Changing education paradigms</td>\n",
              "      <td>https://www.ted.com/talks/ken_robinson_changin...</td>\n",
              "      <td>1854997</td>\n",
              "    </tr>\n",
              "    <tr>\n",
              "      <th>1502</th>\n",
              "      <td>634</td>\n",
              "      <td>Sir Ken Robinson outlines 3 principles crucial...</td>\n",
              "      <td>1151</td>\n",
              "      <td>...</td>\n",
              "      <td>How to escape education's death valley</td>\n",
              "      <td>https://www.ted.com/talks/ken_robinson_how_to_...</td>\n",
              "      <td>6657858</td>\n",
              "    </tr>\n",
              "    <tr>\n",
              "      <th>1802</th>\n",
              "      <td>59</td>\n",
              "      <td>Sir Tim Berners-Lee invented the World Wide We...</td>\n",
              "      <td>403</td>\n",
              "      <td>...</td>\n",
              "      <td>A Magna Carta for the web</td>\n",
              "      <td>https://www.ted.com/talks/tim_berners_lee_a_ma...</td>\n",
              "      <td>1054600</td>\n",
              "    </tr>\n",
              "  </tbody>\n",
              "</table>\n",
              "<p>6 rows × 17 columns</p>\n",
              "</div>"
            ],
            "text/plain": [
              "      comments                                        description  duration  \\\n",
              "0         4553  Sir Ken Robinson makes an entertaining and pro...      1164   \n",
              "54         203  Speaking as both an astronomer and \"a concerne...      1046   \n",
              "692       1234  In this poignant, funny follow-up to his fable...      1008   \n",
              "833        473  In this talk from RSA Animate, Sir Ken Robinso...       700   \n",
              "1502       634  Sir Ken Robinson outlines 3 principles crucial...      1151   \n",
              "1802        59  Sir Tim Berners-Lee invented the World Wide We...       403   \n",
              "\n",
              "      ...                                   title  \\\n",
              "0     ...             Do schools kill creativity?   \n",
              "54    ...              Is this our final century?   \n",
              "692   ...       Bring on the learning revolution!   \n",
              "833   ...            Changing education paradigms   \n",
              "1502  ...  How to escape education's death valley   \n",
              "1802  ...               A Magna Carta for the web   \n",
              "\n",
              "                                                    url     views  \n",
              "0     https://www.ted.com/talks/ken_robinson_says_sc...  47227110  \n",
              "54    https://www.ted.com/talks/martin_rees_asks_is_...   2121177  \n",
              "692   https://www.ted.com/talks/sir_ken_robinson_bri...   7266316  \n",
              "833   https://www.ted.com/talks/ken_robinson_changin...   1854997  \n",
              "1502  https://www.ted.com/talks/ken_robinson_how_to_...   6657858  \n",
              "1802  https://www.ted.com/talks/tim_berners_lee_a_ma...   1054600  \n",
              "\n",
              "[6 rows x 17 columns]"
            ]
          },
          "metadata": {
            "tags": []
          },
          "execution_count": 26
        }
      ]
    },
    {
      "cell_type": "markdown",
      "metadata": {
        "id": "T4ft1g-bqfAw"
      },
      "source": [
        "# 儲存表格：to_csv\n",
        "必要參數:檔案路徑<br/>\n",
        "選用參數:encoding<br/>\n",
        "選用參數:index-pd產生的列編號要不要寫入 (可以選False)\n"
      ]
    },
    {
      "cell_type": "code",
      "metadata": {
        "id": "3uX7FlF1p6_k"
      },
      "source": [
        "df_filter.to_csv(\"filter.csv\", encoding=\"utf-8\", index=False)"
      ],
      "execution_count": null,
      "outputs": []
    },
    {
      "cell_type": "markdown",
      "metadata": {
        "id": "lojuafg9sK-f"
      },
      "source": [
        "# 讀取表格：pd.read_csv"
      ]
    },
    {
      "cell_type": "code",
      "metadata": {
        "id": "QzB__C3IsKpr"
      },
      "source": [
        "pd.read_csv(\"filter.csv\", encoding=\"utf-8\")"
      ],
      "execution_count": null,
      "outputs": []
    },
    {
      "cell_type": "markdown",
      "metadata": {
        "id": "Al3frE5WtQHS"
      },
      "source": [
        "# 刪除行\n",
        "刪除單行(立即刪掉): del df['title']<br/>\n",
        "刪除多行(需要另存): df.drop([\"url\",\"views\"],axis=1)\n"
      ]
    },
    {
      "cell_type": "code",
      "metadata": {
        "id": "jy4g6l8OtPyU"
      },
      "source": [
        "del df['description']\n",
        "df"
      ],
      "execution_count": null,
      "outputs": []
    },
    {
      "cell_type": "code",
      "metadata": {
        "id": "YHSlCzK2ydQ_"
      },
      "source": [
        "df_drop=df.drop([\"url\",\"views\"],axis=1)\n",
        "df_drop"
      ],
      "execution_count": null,
      "outputs": []
    },
    {
      "cell_type": "markdown",
      "metadata": {
        "id": "eI29cmhi0W-n"
      },
      "source": [
        "# 自定義過濾流程，再使用series.apply(function)\n",
        "\n"
      ]
    },
    {
      "cell_type": "code",
      "metadata": {
        "id": "JBmULB7qzb1C"
      },
      "source": [
        "#element是每一格的資料\n",
        "#利用eval把字串當成python程式執行,變成Lㄔㄛ\n",
        "def tag_filter(element):\n",
        "  tag_list=eval(element)\n",
        "  if 'children' in tag_list:\n",
        "    return True\n",
        "  else:\n",
        "    return False\n",
        "\n",
        "#自定義作出的bool list\n",
        "bool_filter=df[\"tags\"].apply(tag_filter)\n",
        "bool_filter"
      ],
      "execution_count": null,
      "outputs": []
    },
    {
      "cell_type": "code",
      "metadata": {
        "id": "T-fxyZX228sV",
        "outputId": "3a4c5db9-13e2-4b25-c6a6-33156456dabe",
        "colab": {
          "base_uri": "https://localhost:8080/",
          "height": 232
        }
      },
      "source": [
        "#丟回進行過濾\n",
        "df[bool_filter][[\"tags\",\"url\"]]\n"
      ],
      "execution_count": null,
      "outputs": [
        {
          "output_type": "execute_result",
          "data": {
            "text/html": [
              "<div>\n",
              "<style scoped>\n",
              "    .dataframe tbody tr th:only-of-type {\n",
              "        vertical-align: middle;\n",
              "    }\n",
              "\n",
              "    .dataframe tbody tr th {\n",
              "        vertical-align: top;\n",
              "    }\n",
              "\n",
              "    .dataframe thead th {\n",
              "        text-align: right;\n",
              "    }\n",
              "</style>\n",
              "<table border=\"1\" class=\"dataframe\">\n",
              "  <thead>\n",
              "    <tr style=\"text-align: right;\">\n",
              "      <th></th>\n",
              "      <th>tags</th>\n",
              "      <th>url</th>\n",
              "    </tr>\n",
              "  </thead>\n",
              "  <tbody>\n",
              "    <tr>\n",
              "      <th>0</th>\n",
              "      <td>['children', 'creativity', 'culture', 'dance',...</td>\n",
              "      <td>https://www.ted.com/talks/ken_robinson_says_sc...</td>\n",
              "    </tr>\n",
              "    <tr>\n",
              "      <th>54</th>\n",
              "      <td>['astronomy', 'climate change', 'complexity', ...</td>\n",
              "      <td>https://www.ted.com/talks/martin_rees_asks_is_...</td>\n",
              "    </tr>\n",
              "    <tr>\n",
              "      <th>692</th>\n",
              "      <td>['TED Brain Trust', 'children', 'creativity', ...</td>\n",
              "      <td>https://www.ted.com/talks/sir_ken_robinson_bri...</td>\n",
              "    </tr>\n",
              "    <tr>\n",
              "      <th>833</th>\n",
              "      <td>['TED Brain Trust', 'business', 'children', 'd...</td>\n",
              "      <td>https://www.ted.com/talks/ken_robinson_changin...</td>\n",
              "    </tr>\n",
              "    <tr>\n",
              "      <th>1502</th>\n",
              "      <td>['culture', 'education', 'student', 'teaching'...</td>\n",
              "      <td>https://www.ted.com/talks/ken_robinson_how_to_...</td>\n",
              "    </tr>\n",
              "    <tr>\n",
              "      <th>1802</th>\n",
              "      <td>['Internet', 'global issues', 'open-source', '...</td>\n",
              "      <td>https://www.ted.com/talks/tim_berners_lee_a_ma...</td>\n",
              "    </tr>\n",
              "  </tbody>\n",
              "</table>\n",
              "</div>"
            ],
            "text/plain": [
              "                                                   tags  \\\n",
              "0     ['children', 'creativity', 'culture', 'dance',...   \n",
              "54    ['astronomy', 'climate change', 'complexity', ...   \n",
              "692   ['TED Brain Trust', 'children', 'creativity', ...   \n",
              "833   ['TED Brain Trust', 'business', 'children', 'd...   \n",
              "1502  ['culture', 'education', 'student', 'teaching'...   \n",
              "1802  ['Internet', 'global issues', 'open-source', '...   \n",
              "\n",
              "                                                    url  \n",
              "0     https://www.ted.com/talks/ken_robinson_says_sc...  \n",
              "54    https://www.ted.com/talks/martin_rees_asks_is_...  \n",
              "692   https://www.ted.com/talks/sir_ken_robinson_bri...  \n",
              "833   https://www.ted.com/talks/ken_robinson_changin...  \n",
              "1502  https://www.ted.com/talks/ken_robinson_how_to_...  \n",
              "1802  https://www.ted.com/talks/tim_berners_lee_a_ma...  "
            ]
          },
          "metadata": {
            "tags": []
          },
          "execution_count": 55
        }
      ]
    },
    {
      "cell_type": "markdown",
      "metadata": {
        "id": "uHeN7cC63opH"
      },
      "source": [
        "設定更多參數"
      ]
    },
    {
      "cell_type": "code",
      "metadata": {
        "id": "HcJb0mZi3srR"
      },
      "source": [
        "def tag_filter(element, filter_tag):\n",
        "  tag_list=eval(element)\n",
        "  if filter_tag in tag_list:\n",
        "    return True\n",
        "  else:\n",
        "    return False"
      ],
      "execution_count": null,
      "outputs": []
    },
    {
      "cell_type": "code",
      "metadata": {
        "id": "1m5jTBDr4FFA",
        "outputId": "0501d4f0-461d-4950-a629-a15a41fb6d5a",
        "colab": {
          "base_uri": "https://localhost:8080/",
          "height": 155
        }
      },
      "source": [
        "bool_filter=df[\"tags\"].apply(tag_filter,filter_tag=\"Asia\")\n",
        "bool_filter"
      ],
      "execution_count": null,
      "outputs": [
        {
          "output_type": "execute_result",
          "data": {
            "text/plain": [
              "0       False\n",
              "1       False\n",
              "2       False\n",
              "        ...  \n",
              "2547    False\n",
              "2548    False\n",
              "2549    False\n",
              "Name: tags, Length: 2550, dtype: bool"
            ]
          },
          "metadata": {
            "tags": []
          },
          "execution_count": 58
        }
      ]
    },
    {
      "cell_type": "code",
      "metadata": {
        "id": "o_eW99jo4Svu",
        "outputId": "8aaf3106-d6ed-48ff-fece-b2211cf164f1",
        "colab": {
          "base_uri": "https://localhost:8080/",
          "height": 292
        }
      },
      "source": [
        "df[bool_filter][[\"url\",\"tags\"]]"
      ],
      "execution_count": null,
      "outputs": [
        {
          "output_type": "execute_result",
          "data": {
            "text/html": [
              "<div>\n",
              "<style scoped>\n",
              "    .dataframe tbody tr th:only-of-type {\n",
              "        vertical-align: middle;\n",
              "    }\n",
              "\n",
              "    .dataframe tbody tr th {\n",
              "        vertical-align: top;\n",
              "    }\n",
              "\n",
              "    .dataframe thead th {\n",
              "        text-align: right;\n",
              "    }\n",
              "</style>\n",
              "<table border=\"1\" class=\"dataframe\">\n",
              "  <thead>\n",
              "    <tr style=\"text-align: right;\">\n",
              "      <th></th>\n",
              "      <th>url</th>\n",
              "      <th>tags</th>\n",
              "    </tr>\n",
              "  </thead>\n",
              "  <tbody>\n",
              "    <tr>\n",
              "      <th>4</th>\n",
              "      <td>https://www.ted.com/talks/hans_rosling_shows_t...</td>\n",
              "      <td>['Africa', 'Asia', 'Google', 'demo', 'economic...</td>\n",
              "    </tr>\n",
              "    <tr>\n",
              "      <th>117</th>\n",
              "      <td>https://www.ted.com/talks/hans_rosling_reveals...</td>\n",
              "      <td>['Africa', 'Asia', 'Google', 'economics', 'glo...</td>\n",
              "    </tr>\n",
              "    <tr>\n",
              "      <th>359</th>\n",
              "      <td>https://www.ted.com/talks/jennifer_8_lee_looks...</td>\n",
              "      <td>['Asia', 'business', 'culture', 'exploration',...</td>\n",
              "    </tr>\n",
              "    <tr>\n",
              "      <th>...</th>\n",
              "      <td>...</td>\n",
              "      <td>...</td>\n",
              "    </tr>\n",
              "    <tr>\n",
              "      <th>1621</th>\n",
              "      <td>https://www.ted.com/talks/dambisa_moyo_is_chin...</td>\n",
              "      <td>['Africa', 'Asia', 'china', 'democracy', 'econ...</td>\n",
              "    </tr>\n",
              "    <tr>\n",
              "      <th>1948</th>\n",
              "      <td>https://www.ted.com/talks/kevin_rudd_are_china...</td>\n",
              "      <td>['Asia', 'United States', 'china', 'politics']</td>\n",
              "    </tr>\n",
              "    <tr>\n",
              "      <th>2310</th>\n",
              "      <td>https://www.ted.com/talks/ian_bremmer_how_the_...</td>\n",
              "      <td>['Africa', 'Asia', 'Europe', 'Foreign Policy',...</td>\n",
              "    </tr>\n",
              "  </tbody>\n",
              "</table>\n",
              "<p>26 rows × 2 columns</p>\n",
              "</div>"
            ],
            "text/plain": [
              "                                                    url  \\\n",
              "4     https://www.ted.com/talks/hans_rosling_shows_t...   \n",
              "117   https://www.ted.com/talks/hans_rosling_reveals...   \n",
              "359   https://www.ted.com/talks/jennifer_8_lee_looks...   \n",
              "...                                                 ...   \n",
              "1621  https://www.ted.com/talks/dambisa_moyo_is_chin...   \n",
              "1948  https://www.ted.com/talks/kevin_rudd_are_china...   \n",
              "2310  https://www.ted.com/talks/ian_bremmer_how_the_...   \n",
              "\n",
              "                                                   tags  \n",
              "4     ['Africa', 'Asia', 'Google', 'demo', 'economic...  \n",
              "117   ['Africa', 'Asia', 'Google', 'economics', 'glo...  \n",
              "359   ['Asia', 'business', 'culture', 'exploration',...  \n",
              "...                                                 ...  \n",
              "1621  ['Africa', 'Asia', 'china', 'democracy', 'econ...  \n",
              "1948     ['Asia', 'United States', 'china', 'politics']  \n",
              "2310  ['Africa', 'Asia', 'Europe', 'Foreign Policy',...  \n",
              "\n",
              "[26 rows x 2 columns]"
            ]
          },
          "metadata": {
            "tags": []
          },
          "execution_count": 60
        }
      ]
    }
  ]
}